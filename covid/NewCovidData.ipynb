{
 "cells": [
  {
   "cell_type": "code",
   "execution_count": 1,
   "id": "d3f2e15f",
   "metadata": {},
   "outputs": [],
   "source": [
    "from multiprocessing import  Pool\n",
    "\n",
    "import numpy as np\n",
    "import pandas as pd\n",
    "import time\n",
    "import os\n",
    "\n",
    "start = time.time()\n",
    "PATH = \"./brazil\"\n"
   ]
  },
  {
   "cell_type": "code",
   "execution_count": 2,
   "id": "afb3aef3",
   "metadata": {},
   "outputs": [
    {
     "name": "stdout",
     "output_type": "stream",
     "text": [
      "--2021-06-25 11:17:39--  https://github.com/wcota/covid19br/blob/master/cases-brazil-cities-time.csv.gz\n",
      "Loaded CA certificate '/etc/ssl/certs/ca-certificates.crt'\n",
      "Resolving github.com (github.com)... 140.82.114.3\n",
      "Connecting to github.com (github.com)|140.82.114.3|:443... connected.\n",
      "HTTP request sent, awaiting response... 200 OK\n",
      "Length: unspecified [text/html]\n",
      "Saving to: ‘cases-brazil-cities-time.csv.gz.3’\n",
      "\n",
      "cases-brazil-cities     [  <=>               ] 111.71K   291KB/s    in 0.4s    \n",
      "\n",
      "2021-06-25 11:17:41 (291 KB/s) - ‘cases-brazil-cities-time.csv.gz.3’ saved [114395]\n",
      "\n"
     ]
    }
   ],
   "source": [
    "!wget https://github.com/wcota/covid19br/blob/master/cases-brazil-cities-time.csv.gz"
   ]
  },
  {
   "cell_type": "code",
   "execution_count": 3,
   "id": "407ec669",
   "metadata": {
    "scrolled": true
   },
   "outputs": [],
   "source": [
    "dataframe  = pd.read_csv(\"./cases-brazil-cities-time.csv.gz\")\n",
    "# dataframe"
   ]
  },
  {
   "cell_type": "code",
   "execution_count": 4,
   "id": "66a46f7e",
   "metadata": {
    "scrolled": false
   },
   "outputs": [],
   "source": [
    "dataframe[\"daily_cases_moving_average\"] = dataframe['newCases'].rolling(window=14).mean()\n",
    "dataframe[\"daily_deaths_moving_average\"] = dataframe['newDeaths'].rolling(window=14).mean()"
   ]
  },
  {
   "cell_type": "code",
   "execution_count": 7,
   "id": "5caf9b9f",
   "metadata": {
    "scrolled": true
   },
   "outputs": [],
   "source": [
    "def extractDataframeByCity(dataframe):\n",
    "    all_names = dataframe.city.unique().tolist()\n",
    "    lenth = len(dataframe.state.unique().tolist())\n",
    "    number_of_names = len(all_names)\n",
    "    counter = 0\n",
    "\n",
    "    for name in all_names:\n",
    "        newDataframe = dataframe.loc[dataframe.state == name]\n",
    "        newDataframe.reset_index(inplace=True)\n",
    "        \n",
    "        \n",
    "        counter +=1 \n",
    "        \n",
    "        new_name = \"Brasil\"\n",
    "        try:\n",
    "            buffer_name = name.split(\"/\")\n",
    "            new_name = buffer_name[0]\n",
    "        except:\n",
    "            pass\n",
    "        \n",
    "        if(counter % 530 == 0):\n",
    "            print(\"Processing: {:.2f%}...\".format(counter / 5300))\n",
    "        \n",
    "        \n",
    "        newDataframe.to_json(f\"{PATH}/{new_name}.json\")\n",
    "\n"
   ]
  },
  {
   "cell_type": "code",
   "execution_count": 8,
   "id": "2872519a",
   "metadata": {},
   "outputs": [
    {
     "ename": "ValueError",
     "evalue": "Invalid format specifier",
     "output_type": "error",
     "traceback": [
      "\u001b[0;31m---------------------------------------------------------------------------\u001b[0m",
      "\u001b[0;31mValueError\u001b[0m                                Traceback (most recent call last)",
      "\u001b[0;32m<ipython-input-8-401664fed93d>\u001b[0m in \u001b[0;36m<module>\u001b[0;34m\u001b[0m\n\u001b[0;32m----> 1\u001b[0;31m \u001b[0mextractDataframeByCity\u001b[0m\u001b[0;34m(\u001b[0m\u001b[0mdataframe\u001b[0m\u001b[0;34m)\u001b[0m\u001b[0;34m\u001b[0m\u001b[0;34m\u001b[0m\u001b[0m\n\u001b[0m",
      "\u001b[0;32m<ipython-input-7-2f963a047c3a>\u001b[0m in \u001b[0;36mextractDataframeByCity\u001b[0;34m(dataframe)\u001b[0m\n\u001b[1;32m     20\u001b[0m \u001b[0;34m\u001b[0m\u001b[0m\n\u001b[1;32m     21\u001b[0m         \u001b[0;32mif\u001b[0m\u001b[0;34m(\u001b[0m\u001b[0mcounter\u001b[0m \u001b[0;34m%\u001b[0m \u001b[0;36m530\u001b[0m \u001b[0;34m==\u001b[0m \u001b[0;36m0\u001b[0m\u001b[0;34m)\u001b[0m\u001b[0;34m:\u001b[0m\u001b[0;34m\u001b[0m\u001b[0;34m\u001b[0m\u001b[0m\n\u001b[0;32m---> 22\u001b[0;31m             \u001b[0mprint\u001b[0m\u001b[0;34m(\u001b[0m\u001b[0;34m\"Processing: {:.2f%}...\"\u001b[0m\u001b[0;34m.\u001b[0m\u001b[0mformat\u001b[0m\u001b[0;34m(\u001b[0m\u001b[0mcounter\u001b[0m \u001b[0;34m/\u001b[0m \u001b[0;36m5300\u001b[0m\u001b[0;34m)\u001b[0m\u001b[0;34m)\u001b[0m\u001b[0;34m\u001b[0m\u001b[0;34m\u001b[0m\u001b[0m\n\u001b[0m\u001b[1;32m     23\u001b[0m \u001b[0;34m\u001b[0m\u001b[0m\n\u001b[1;32m     24\u001b[0m \u001b[0;34m\u001b[0m\u001b[0m\n",
      "\u001b[0;31mValueError\u001b[0m: Invalid format specifier"
     ]
    }
   ],
   "source": [
    "extractDataframeByCity(dataframe)"
   ]
  },
  {
   "cell_type": "markdown",
   "id": "dc4e33b7",
   "metadata": {},
   "source": [
    "# Vaccines"
   ]
  },
  {
   "cell_type": "code",
   "execution_count": null,
   "id": "75f8608b",
   "metadata": {},
   "outputs": [],
   "source": [
    "url = \"https://raw.githubusercontent.com/wcota/covid19br/master/cases-brazil-states.csv\"\n",
    "dataframe = pd.read_csv(url,index_col=0,parse_dates=[0])\n",
    "# dataframe"
   ]
  },
  {
   "cell_type": "code",
   "execution_count": null,
   "id": "558414fc",
   "metadata": {},
   "outputs": [],
   "source": [
    "# dataframe.state.unique().tolist()\n",
    "\n",
    "dataframe[\"daily_cases_moving_average\"] = dataframe['newCases'].rolling(window=14).mean()\n",
    "dataframe[\"daily_deaths_moving_average\"] = dataframe['newDeaths'].rolling(window=14).mean()\n",
    "\n",
    "dataframe[\"vaccinated_moving_average\"] = dataframe['vaccinated'].rolling(window=14).mean()\n",
    "dataframe[\"vaccinated_second_moving_average\"] = dataframe['vaccinated_second'].rolling(window=14).mean()\n",
    "\n",
    "dataframe.state = dataframe.state.replace(['AC', 'AL', \"AP\", \"AM\", \"BA\", \"CE\", \"DF\", \"ES\", \"GO\", \"MA\", \"MT\", \"MS\", \"MG\", \"PA\", \"PB\", \"PR\", \"PE\", \"PI\", \"RJ\", \"RN\", \"RS\", \"RO\", \"RR\", \"SC\", \"SP\", \"SE\", \"TO\", \"TOTAL\"], [\"Acre\", \"Alagoas\", \"Amapá\", \"Amazonas\", \"Bahia\", \"Ceará\", \"Distrito Federal\",  \"Espírito Santo\", \"Goiás\", \"Maranhão\",  \"Mato Grosso\", \"Mato Grosso do Sul\", \"Minas Gerais\", \"Pará\", \"Paraíba\", \"Paraná\", \"Pernambuco\", \"Piauí\", \"Rio de Janeiro\", \"Rio Grande do Norte\", \"Rio Grande do Sul\", \"Rondônia\", \"Roraima\", \"Santa Catarina\", \"São Paulo\", \"Sergipe\", \"Tocantins\", \"Brasil\"])\n",
    "# dataframe.columns\n"
   ]
  },
  {
   "cell_type": "code",
   "execution_count": null,
   "id": "7055bdac",
   "metadata": {},
   "outputs": [],
   "source": [
    "def extractDataframeByState(dataframe):\n",
    "    all_names = dataframe.state.unique().tolist()\n",
    "    lenth = len(dataframe.state.unique().tolist())\n",
    "    number_of_names = len(all_names)\n",
    "    counter = 0\n",
    "\n",
    "    for name in all_names:\n",
    "        newDataframe = dataframe.loc[dataframe.state == name]\n",
    "        newDataframe.drop(newDataframe.index[0])\n",
    "        newDataframe.reset_index(inplace=True)\n",
    "\n",
    "        newDataframe.to_json(f\"{PATH}/{name}.json\")\n",
    "extractDataframeByState(dataframe)"
   ]
  },
  {
   "cell_type": "code",
   "execution_count": null,
   "id": "83e19f2e",
   "metadata": {},
   "outputs": [],
   "source": [
    "!rm .csv.gz\n",
    "\n",
    "os.system(\"./upload2TheCloud.sh\")\n",
    "\n",
    "print(\"It took {:.2f} minutes\".format((time.time() - start)/60))"
   ]
  },
  {
   "cell_type": "code",
   "execution_count": null,
   "id": "60a1dc57",
   "metadata": {},
   "outputs": [],
   "source": []
  }
 ],
 "metadata": {
  "kernelspec": {
   "display_name": "Python 3",
   "language": "python",
   "name": "python3"
  },
  "language_info": {
   "codemirror_mode": {
    "name": "ipython",
    "version": 3
   },
   "file_extension": ".py",
   "mimetype": "text/x-python",
   "name": "python",
   "nbconvert_exporter": "python",
   "pygments_lexer": "ipython3",
   "version": "3.9.5"
  }
 },
 "nbformat": 4,
 "nbformat_minor": 5
}
