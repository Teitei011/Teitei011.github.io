{
 "cells": [
  {
   "cell_type": "code",
   "execution_count": 1,
   "id": "d3f2e15f",
   "metadata": {},
   "outputs": [],
   "source": [
    "from multiprocessing import  Pool\n",
    "\n",
    "import requests\n",
    "import numpy as np\n",
    "import pandas as pd\n",
    "import time\n",
    "import os\n",
    "\n",
    "start = time.time()\n",
    "PATH = \"./brazil\"\n"
   ]
  },
  {
   "cell_type": "code",
   "execution_count": 2,
   "id": "afb3aef3",
   "metadata": {},
   "outputs": [
    {
     "name": "stdout",
     "output_type": "stream",
     "text": [
      "Dowloading the data...\n"
     ]
    },
    {
     "data": {
      "text/plain": [
       "84773618"
      ]
     },
     "execution_count": 2,
     "metadata": {},
     "output_type": "execute_result"
    }
   ],
   "source": [
    "os.system(\"rm *.csv.gz\")\n",
    "\n",
    "print(\"Dowloading the data...\")\n",
    "# !wget \"\"\n",
    "url = 'https://github.com/wcota/covid19br/raw/master/cases-brazil-cities-time.csv.gz'\n",
    "r = requests.get(url, allow_redirects=True)\n",
    "open(\"cases-brazil-cities-time.csv.gz\", 'wb').write(r.content)"
   ]
  },
  {
   "cell_type": "code",
   "execution_count": 3,
   "id": "407ec669",
   "metadata": {
    "scrolled": true
   },
   "outputs": [
    {
     "name": "stdout",
     "output_type": "stream",
     "text": [
      "Data downloaded!\n"
     ]
    }
   ],
   "source": [
    "start = time.time()\n",
    "\n",
    "dataframe  = pd.read_csv(\"cases-brazil-cities-time.csv.gz\")\n",
    "print(\"Data downloaded!\")"
   ]
  },
  {
   "cell_type": "code",
   "execution_count": 4,
   "id": "66a46f7e",
   "metadata": {
    "scrolled": false
   },
   "outputs": [
    {
     "name": "stdout",
     "output_type": "stream",
     "text": [
      "Extracting city dataframes...\n"
     ]
    }
   ],
   "source": [
    "print(\"Extracting city dataframes...\")"
   ]
  },
  {
   "cell_type": "code",
   "execution_count": 7,
   "id": "5caf9b9f",
   "metadata": {
    "scrolled": true
   },
   "outputs": [],
   "source": [
    "def extractDataframeByCity(dataframe):\n",
    "    print(\"Processing... 0%\")\n",
    "    all_names = dataframe.city.unique().tolist()\n",
    "   \n",
    "    number_of_names = int(len(all_names) /100)\n",
    "    \n",
    "    counter = 0\n",
    "\n",
    "    for name in all_names:\n",
    "        newDataframe = dataframe.loc[dataframe.city == name]\n",
    "        newDataframe.reset_index(inplace=True)\n",
    "        \n",
    "        newDataframe[\"daily_cases_moving_average\"] = newDataframe.newCases.rolling(window = 14).mean()\n",
    "        newDataframe[\"daily_deaths_moving_average\"] = newDataframe.newDeaths.rolling(window = 14).mean()\n",
    "\n",
    "        counter +=1 \n",
    "        \n",
    "        new_name = \"Brasil\"\n",
    "        try:\n",
    "            buffer_name = name.split(\"/\")\n",
    "            new_name = buffer_name[0]\n",
    "        except:\n",
    "            pass\n",
    "\n",
    "        if (counter % number_of_names == 0):\n",
    "            print(\"Processing... {:.0f}% \".format((counter*100)/number_of_names))\n",
    "        \n",
    "        newDataframe.to_json(f\"{PATH}/{new_name}.json\")\n",
    "\n"
   ]
  },
  {
   "cell_type": "code",
   "execution_count": null,
   "id": "2872519a",
   "metadata": {
    "scrolled": true
   },
   "outputs": [
    {
     "name": "stdout",
     "output_type": "stream",
     "text": [
      "Processing... 0%\n"
     ]
    },
    {
     "name": "stderr",
     "output_type": "stream",
     "text": [
      "<ipython-input-7-de7211ded077>:13: SettingWithCopyWarning: \n",
      "A value is trying to be set on a copy of a slice from a DataFrame.\n",
      "Try using .loc[row_indexer,col_indexer] = value instead\n",
      "\n",
      "See the caveats in the documentation: https://pandas.pydata.org/pandas-docs/stable/user_guide/indexing.html#returning-a-view-versus-a-copy\n",
      "  newDataframe[\"daily_cases_moving_average\"] = newDataframe.newCases.rolling(window = 14).mean()\n",
      "<ipython-input-7-de7211ded077>:14: SettingWithCopyWarning: \n",
      "A value is trying to be set on a copy of a slice from a DataFrame.\n",
      "Try using .loc[row_indexer,col_indexer] = value instead\n",
      "\n",
      "See the caveats in the documentation: https://pandas.pydata.org/pandas-docs/stable/user_guide/indexing.html#returning-a-view-versus-a-copy\n",
      "  newDataframe[\"daily_deaths_moving_average\"] = newDataframe.newDeaths.rolling(window = 14).mean()\n"
     ]
    },
    {
     "name": "stdout",
     "output_type": "stream",
     "text": [
      "Processing... 100% \n",
      "Processing... 200% \n"
     ]
    }
   ],
   "source": [
    "extractDataframeByCity(dataframe)\n",
    "print(\"Cities Processed!\")"
   ]
  },
  {
   "cell_type": "markdown",
   "id": "dc4e33b7",
   "metadata": {},
   "source": [
    "# Vaccines"
   ]
  },
  {
   "cell_type": "code",
   "execution_count": null,
   "id": "75f8608b",
   "metadata": {},
   "outputs": [],
   "source": [
    "print(\"Downloading vaccines dataset...\")\n",
    "url = \"https://raw.githubusercontent.com/wcota/covid19br/master/cases-brazil-states.csv\"\n",
    "dataframe = pd.read_csv(url,index_col=0,parse_dates=[0])\n",
    "# dataframe\n",
    "\n",
    "print(\"Vaccine Dataset downloaded!\")"
   ]
  },
  {
   "cell_type": "code",
   "execution_count": null,
   "id": "558414fc",
   "metadata": {},
   "outputs": [],
   "source": [
    "\n",
    "\n",
    "dataframe.state = dataframe.state.replace(['AC', 'AL', \"AP\", \"AM\", \"BA\", \"CE\", \"DF\", \"ES\", \"GO\", \"MA\", \"MT\", \"MS\", \"MG\", \"PA\", \"PB\", \"PR\", \"PE\", \"PI\", \"RJ\", \"RN\", \"RS\", \"RO\", \"RR\", \"SC\", \"SP\", \"SE\", \"TO\", \"TOTAL\"], [\"Acre\", \"Alagoas\", \"Amapá\", \"Amazonas\", \"Bahia\", \"Ceará\", \"Distrito Federal\",  \"Espírito Santo\", \"Goiás\", \"Maranhão\",  \"Mato Grosso\", \"Mato Grosso do Sul\", \"Minas Gerais\", \"Pará\", \"Paraíba\", \"Paraná\", \"Pernambuco\", \"Piauí\", \"Rio de Janeiro\", \"Rio Grande do Norte\", \"Rio Grande do Sul\", \"Rondônia\", \"Roraima\", \"Santa Catarina\", \"São Paulo\", \"Sergipe\", \"Tocantins\", \"Brasil\"])\n",
    "# dataframe.columns\n",
    "dataframe"
   ]
  },
  {
   "cell_type": "code",
   "execution_count": null,
   "id": "7055bdac",
   "metadata": {},
   "outputs": [],
   "source": [
    "def extractDataframeByState(dataframe):\n",
    "    all_names = dataframe.state.unique().tolist()\n",
    "    lenth = len(dataframe.state.unique().tolist())\n",
    "    number_of_names = len(all_names)\n",
    "    counter = 0\n",
    "\n",
    "    for name in all_names:\n",
    "        \n",
    "        newDataframe = dataframe.loc[dataframe.state == name]\n",
    "        newDataframe.drop(newDataframe.index[0])\n",
    "        newDataframe.reset_index(inplace=True)\n",
    "        \n",
    "        dataframe[\"daily_cases_moving_average\"] = dataframe.loc[dataframe.newCases].rolling(window=14).mean()\n",
    "        dataframe[\"daily_deaths_moving_average\"] = dataframe.loc[dataframe.newDeaths].rolling(window=14).mean()\n",
    "\n",
    "        dataframe[\"vaccinated_moving_average\"] = dataframe.loc[dataframe.vaccinated].rolling(window=14).mean()\n",
    "        dataframe[\"vaccinated_second_moving_average\"] = dataframe.loc[dataframe.vaccinated_second].rolling(window=14).mean()\n",
    "\n",
    "        newDataframe.to_json(f\"{PATH}/{name}.json\")\n",
    "extractDataframeByState(dataframe)"
   ]
  },
  {
   "cell_type": "code",
   "execution_count": null,
   "id": "83e19f2e",
   "metadata": {},
   "outputs": [],
   "source": [
    "os.system(\"rm *.csv.gz\")\n",
    "\n",
    "os.system(\"./upload2TheCloud.sh\")\n",
    "\n",
    "print(\"It took {:.2f} minutes\".format((time.time() - start)/60))"
   ]
  },
  {
   "cell_type": "code",
   "execution_count": null,
   "id": "60a1dc57",
   "metadata": {},
   "outputs": [],
   "source": []
  }
 ],
 "metadata": {
  "kernelspec": {
   "display_name": "Python 3",
   "language": "python",
   "name": "python3"
  },
  "language_info": {
   "codemirror_mode": {
    "name": "ipython",
    "version": 3
   },
   "file_extension": ".py",
   "mimetype": "text/x-python",
   "name": "python",
   "nbconvert_exporter": "python",
   "pygments_lexer": "ipython3",
   "version": "3.9.5"
  }
 },
 "nbformat": 4,
 "nbformat_minor": 5
}
