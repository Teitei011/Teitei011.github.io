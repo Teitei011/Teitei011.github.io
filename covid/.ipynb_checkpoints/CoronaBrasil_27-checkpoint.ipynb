{
 "cells": [
  {
   "cell_type": "code",
   "execution_count": 1,
   "id": "disabled-appendix",
   "metadata": {},
   "outputs": [],
   "source": [
    "import pandas as pd\n",
    "import time\n",
    "import os"
   ]
  },
  {
   "cell_type": "code",
   "execution_count": 12,
   "id": "objective-conditions",
   "metadata": {},
   "outputs": [],
   "source": [
    "PATH = \"brazil/\"\n",
    "FILE_NAME = \"Brazil.csv\"\n",
    "\n",
    "\n",
    "tempo_inicial = time.time()"
   ]
  },
  {
   "cell_type": "code",
   "execution_count": 3,
   "id": "headed-clock",
   "metadata": {},
   "outputs": [],
   "source": [
    "def extractDataframeByName(dataframe, location):\n",
    "    print(\"Processing... 0%\")\n",
    "    all_names = dataframe[location].unique().tolist()\n",
    "\n",
    "    number_of_names = len(all_names)\n",
    "    counter = 0\n",
    "\n",
    "    for name in all_names:\n",
    "        counter +=1 \n",
    "\n",
    "        #print(\"Processing... {}  - {:.2f}%\".format(name, (counter*100)/number_of_names))\n",
    "        if (counter % 530 == 0):\n",
    "            print(\"Processing... {:.0f}% \".format( (counter*100)/number_of_names))\n",
    "\n",
    "\n",
    "        newDataframe = dataframe.loc[dataframe[location] == name]\n",
    "        newDataframe.drop(newDataframe.index[0])\n",
    "        newDataframe.to_csv(f\"{PATH}/{name}.csv\", index=False)\n",
    "\n",
    "\n",
    "def divideByTwoWhenPossible(array):\n",
    "    for i in range(len(array)):\n",
    "        try:\n",
    "            array[i] = array[i] / 2\n",
    "        except:\n",
    "            pass\n",
    "    return array\n",
    "\n",
    "\n",
    "def changeDateOrder(array):\n",
    "    newArray = []\n",
    "    for date in array:\n",
    "        buffer = date.split(\"-\")\n",
    "        print(buffer)\n",
    "        newArray.append(buffer[2] + \"-\" + buffer[1] + \"-\" + buffer[0])\n",
    "    return newArray"
   ]
  },
  {
   "cell_type": "code",
   "execution_count": 17,
   "id": "outstanding-emergency",
   "metadata": {},
   "outputs": [],
   "source": [
    "def splitDataframe2Something(dataframe, name): # Regiao pro Brasil né? # Estado tem que dividr por 2\n",
    "    dataframe['data'] = pd.to_datetime(dataframe[\"data\"])\n",
    "    if (name == \"estado\"):\n",
    "        newDataframe = dataframe.groupby([name, \"data\"])[['casosAcumulado', 'casosNovos', 'obitosAcumulado', 'obitosNovos']].sum().apply(lambda x: divideByTwoWhenPossible(x))\n",
    "    elif (name == \"Brasil\"):\n",
    "        dataframe = dataframe.loc[dataframe[\"regiao\"] == \"Brasil\"]\n",
    "        newDataframe = dataframe[[\"data\", \"casosAcumulado\", \"casosNovos\", \"obitosAcumulado\", \"obitosNovos\"]].copy()\n",
    " \n",
    "    else: # Municipios\n",
    "         newDataframe = dataframe.groupby([name, \"data\"])[['casosAcumulado', 'casosNovos', 'obitosAcumulado', 'obitosNovos']].sum()\n",
    "    \n",
    "    newDataframe.reset_index(inplace = True)\n",
    "    newDataframe[\"data\"] = newDataframe[\"data\"]\n",
    "    newDataframe[\"daily cases moving average\"] = newDataframe['casosNovos'].rolling(window=7).mean()\n",
    "    newDataframe[\"daily deaths moving average\"] = newDataframe['obitosNovos'].rolling(window=7).mean()\n",
    "    newDataframe[\"sum_of_daily_cases_week\"] = newDataframe['casosNovos'].rolling(window=7).sum() \n",
    "    newDataframe[\"sum_of_daily_deaths_week\"] = newDataframe['obitosNovos'].rolling(window=7).sum() \n",
    "\n",
    "    \n",
    "    return newDataframe"
   ]
  },
  {
   "cell_type": "code",
   "execution_count": 19,
   "id": "closed-excuse",
   "metadata": {},
   "outputs": [
    {
     "name": "stdout",
     "output_type": "stream",
     "text": [
      "      estado       data  casosAcumulado  casosNovos  obitosAcumulado  \\\n",
      "0         AC 2020-01-03               0           0                0   \n",
      "1         AC 2020-01-04              43           1                0   \n",
      "2         AC 2020-01-05             486          82               19   \n",
      "3         AC 2020-01-06            6326         107              161   \n",
      "4         AC 2020-01-07           13715         462              370   \n",
      "...      ...        ...             ...         ...              ...   \n",
      "11470     TO 2021-11-04          148065         313             2248   \n",
      "11471     TO 2021-12-01           93895         634             1278   \n",
      "11472     TO 2021-12-02          106495         497             1447   \n",
      "11473     TO 2021-12-03          123537        1111             1639   \n",
      "11474     TO 2021-12-04          148347         282             2269   \n",
      "\n",
      "       obitosNovos  daily cases moving average  daily deaths moving average  \\\n",
      "0                0                         NaN                          NaN   \n",
      "1                0                         NaN                          NaN   \n",
      "2                0                         NaN                          NaN   \n",
      "3               13                         NaN                          NaN   \n",
      "4                5                         NaN                          NaN   \n",
      "...            ...                         ...                          ...   \n",
      "11470           21                  572.571429                    12.000000   \n",
      "11471            4                  607.000000                    11.571429   \n",
      "11472            3                  534.571429                    10.571429   \n",
      "11473           16                  618.857143                     9.571429   \n",
      "11474           21                  636.000000                    12.000000   \n",
      "\n",
      "       sum_of_daily_cases_week  sum_of_daily_deaths_week  \n",
      "0                          NaN                       NaN  \n",
      "1                          NaN                       NaN  \n",
      "2                          NaN                       NaN  \n",
      "3                          NaN                       NaN  \n",
      "4                          NaN                       NaN  \n",
      "...                        ...                       ...  \n",
      "11470                   4008.0                      84.0  \n",
      "11471                   4249.0                      81.0  \n",
      "11472                   3742.0                      74.0  \n",
      "11473                   4332.0                      67.0  \n",
      "11474                   4452.0                      84.0  \n",
      "\n",
      "[11475 rows x 10 columns]\n"
     ]
    }
   ],
   "source": [
    "def main():\n",
    "\n",
    "    #def pre_processing_csv_data(file_name):\n",
    "    unprocessedDataset = pd.read_csv(str(FILE_NAME), delimiter=\";\", error_bad_lines=False)\n",
    "\n",
    "    cities = splitDataframe2Something(unprocessedDataset, \"municipio\")\n",
    "    states = splitDataframe2Something(unprocessedDataset, \"estado\")\n",
    "#     print(states)\n",
    "    brazil = splitDataframe2Something(unprocessedDataset, \"Brasil\")\n",
    "    brazil.to_csv(f\"{PATH}/Brasil.csv\", index=False)\n",
    "\n",
    "    extractDataframeByName(cities, \"municipio\")\n",
    "    extractDataframeByName(states, \"estado\")\n",
    "\n",
    "    print(\"It took {:.2f} minutes\".format((time.time() - tempo_inicial)/60) )\n",
    "\n",
    "    os.system(\"rm Brazil.csv\")\n",
    "    os.system(\"./upload2TheCloud.sh\")\n",
    "\n",
    "if __name__ == \"__main__\":\n",
    "    main()"
   ]
  },
  {
   "cell_type": "code",
   "execution_count": null,
   "id": "retained-electronics",
   "metadata": {},
   "outputs": [],
   "source": []
  },
  {
   "cell_type": "code",
   "execution_count": null,
   "id": "declared-scope",
   "metadata": {},
   "outputs": [],
   "source": []
  }
 ],
 "metadata": {
  "kernelspec": {
   "display_name": "Python 3",
   "language": "python",
   "name": "python3"
  },
  "language_info": {
   "codemirror_mode": {
    "name": "ipython",
    "version": 3
   },
   "file_extension": ".py",
   "mimetype": "text/x-python",
   "name": "python",
   "nbconvert_exporter": "python",
   "pygments_lexer": "ipython3",
   "version": "3.9.3"
  }
 },
 "nbformat": 4,
 "nbformat_minor": 5
}
